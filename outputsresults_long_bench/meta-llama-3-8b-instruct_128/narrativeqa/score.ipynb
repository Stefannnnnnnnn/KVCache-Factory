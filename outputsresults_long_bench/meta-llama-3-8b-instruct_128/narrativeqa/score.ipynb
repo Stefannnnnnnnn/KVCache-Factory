{
 "cells": [
  {
   "cell_type": "code",
   "execution_count": 13,
   "id": "ce56be17-2628-4635-92ce-33c1df2fef30",
   "metadata": {},
   "outputs": [
    {
     "name": "stdout",
     "output_type": "stream",
     "text": [
      "Requirement already satisfied: rouge_score in /usr/local/lib/python3.10/dist-packages (0.1.2)\n",
      "Requirement already satisfied: absl-py in /usr/local/lib/python3.10/dist-packages (from rouge_score) (2.1.0)\n",
      "Requirement already satisfied: nltk in /usr/local/lib/python3.10/dist-packages (from rouge_score) (3.9.1)\n",
      "Requirement already satisfied: numpy in /usr/local/lib/python3.10/dist-packages (from rouge_score) (1.24.1)\n",
      "Requirement already satisfied: six>=1.14.0 in /usr/lib/python3/dist-packages (from rouge_score) (1.16.0)\n",
      "Requirement already satisfied: click in /usr/local/lib/python3.10/dist-packages (from nltk->rouge_score) (8.1.8)\n",
      "Requirement already satisfied: joblib in /usr/local/lib/python3.10/dist-packages (from nltk->rouge_score) (1.4.2)\n",
      "Requirement already satisfied: regex>=2021.8.3 in /usr/local/lib/python3.10/dist-packages (from nltk->rouge_score) (2024.11.6)\n",
      "Requirement already satisfied: tqdm in /usr/local/lib/python3.10/dist-packages (from nltk->rouge_score) (4.67.1)\n",
      "\u001b[33mWARNING: Running pip as the 'root' user can result in broken permissions and conflicting behaviour with the system package manager. It is recommended to use a virtual environment instead: https://pip.pypa.io/warnings/venv\u001b[0m\u001b[33m\n",
      "\u001b[0m\n",
      "\u001b[1m[\u001b[0m\u001b[34;49mnotice\u001b[0m\u001b[1;39;49m]\u001b[0m\u001b[39;49m A new release of pip is available: \u001b[0m\u001b[31;49m23.3.1\u001b[0m\u001b[39;49m -> \u001b[0m\u001b[32;49m25.0.1\u001b[0m\n",
      "\u001b[1m[\u001b[0m\u001b[34;49mnotice\u001b[0m\u001b[1;39;49m]\u001b[0m\u001b[39;49m To update, run: \u001b[0m\u001b[32;49mpython -m pip install --upgrade pip\u001b[0m\n",
      "Requirement already satisfied: sacrebleu in /usr/local/lib/python3.10/dist-packages (2.5.1)\n",
      "Requirement already satisfied: portalocker in /usr/local/lib/python3.10/dist-packages (from sacrebleu) (3.1.1)\n",
      "Requirement already satisfied: regex in /usr/local/lib/python3.10/dist-packages (from sacrebleu) (2024.11.6)\n",
      "Requirement already satisfied: tabulate>=0.8.9 in /usr/local/lib/python3.10/dist-packages (from sacrebleu) (0.9.0)\n",
      "Requirement already satisfied: numpy>=1.17 in /usr/local/lib/python3.10/dist-packages (from sacrebleu) (1.24.1)\n",
      "Requirement already satisfied: colorama in /usr/local/lib/python3.10/dist-packages (from sacrebleu) (0.4.6)\n",
      "Requirement already satisfied: lxml in /usr/local/lib/python3.10/dist-packages (from sacrebleu) (4.9.3)\n",
      "\u001b[33mWARNING: Running pip as the 'root' user can result in broken permissions and conflicting behaviour with the system package manager. It is recommended to use a virtual environment instead: https://pip.pypa.io/warnings/venv\u001b[0m\u001b[33m\n",
      "\u001b[0m\n",
      "\u001b[1m[\u001b[0m\u001b[34;49mnotice\u001b[0m\u001b[1;39;49m]\u001b[0m\u001b[39;49m A new release of pip is available: \u001b[0m\u001b[31;49m23.3.1\u001b[0m\u001b[39;49m -> \u001b[0m\u001b[32;49m25.0.1\u001b[0m\n",
      "\u001b[1m[\u001b[0m\u001b[34;49mnotice\u001b[0m\u001b[1;39;49m]\u001b[0m\u001b[39;49m To update, run: \u001b[0m\u001b[32;49mpython -m pip install --upgrade pip\u001b[0m\n",
      "Collecting scikit-learn\n",
      "  Downloading scikit_learn-1.6.1-cp310-cp310-manylinux_2_17_x86_64.manylinux2014_x86_64.whl.metadata (18 kB)\n",
      "Requirement already satisfied: numpy>=1.19.5 in /usr/local/lib/python3.10/dist-packages (from scikit-learn) (1.24.1)\n",
      "Collecting scipy>=1.6.0 (from scikit-learn)\n",
      "  Downloading scipy-1.15.2-cp310-cp310-manylinux_2_17_x86_64.manylinux2014_x86_64.whl.metadata (61 kB)\n",
      "\u001b[2K     \u001b[90m━━━━━━━━━━━━━━━━━━━━━━━━━━━━━━━━━━━━━━━━\u001b[0m \u001b[32m62.0/62.0 kB\u001b[0m \u001b[31m3.0 MB/s\u001b[0m eta \u001b[36m0:00:00\u001b[0m\n",
      "\u001b[?25hRequirement already satisfied: joblib>=1.2.0 in /usr/local/lib/python3.10/dist-packages (from scikit-learn) (1.4.2)\n",
      "Collecting threadpoolctl>=3.1.0 (from scikit-learn)\n",
      "  Downloading threadpoolctl-3.5.0-py3-none-any.whl.metadata (13 kB)\n",
      "Downloading scikit_learn-1.6.1-cp310-cp310-manylinux_2_17_x86_64.manylinux2014_x86_64.whl (13.5 MB)\n",
      "\u001b[2K   \u001b[90m━━━━━━━━━━━━━━━━━━━━━━━━━━━━━━━━━━━━━━━━\u001b[0m \u001b[32m13.5/13.5 MB\u001b[0m \u001b[31m188.1 MB/s\u001b[0m eta \u001b[36m0:00:00\u001b[0m00:01\u001b[0m:01\u001b[0m\n",
      "\u001b[?25hDownloading scipy-1.15.2-cp310-cp310-manylinux_2_17_x86_64.manylinux2014_x86_64.whl (37.6 MB)\n",
      "\u001b[2K   \u001b[90m━━━━━━━━━━━━━━━━━━━━━━━━━━━━━━━━━━━━━━━━\u001b[0m \u001b[32m37.6/37.6 MB\u001b[0m \u001b[31m216.2 MB/s\u001b[0m eta \u001b[36m0:00:00\u001b[0m00:01\u001b[0m00:01\u001b[0m\n",
      "\u001b[?25hDownloading threadpoolctl-3.5.0-py3-none-any.whl (18 kB)\n",
      "Installing collected packages: threadpoolctl, scipy, scikit-learn\n",
      "Successfully installed scikit-learn-1.6.1 scipy-1.15.2 threadpoolctl-3.5.0\n",
      "\u001b[33mWARNING: Running pip as the 'root' user can result in broken permissions and conflicting behaviour with the system package manager. It is recommended to use a virtual environment instead: https://pip.pypa.io/warnings/venv\u001b[0m\u001b[33m\n",
      "\u001b[0m\n",
      "\u001b[1m[\u001b[0m\u001b[34;49mnotice\u001b[0m\u001b[1;39;49m]\u001b[0m\u001b[39;49m A new release of pip is available: \u001b[0m\u001b[31;49m23.3.1\u001b[0m\u001b[39;49m -> \u001b[0m\u001b[32;49m25.0.1\u001b[0m\n",
      "\u001b[1m[\u001b[0m\u001b[34;49mnotice\u001b[0m\u001b[1;39;49m]\u001b[0m\u001b[39;49m To update, run: \u001b[0m\u001b[32;49mpython -m pip install --upgrade pip\u001b[0m\n"
     ]
    }
   ],
   "source": [
    "!pip install rouge_score\n",
    "!pip install sacrebleu\n",
    "!pip install scikit-learn"
   ]
  },
  {
   "cell_type": "code",
   "execution_count": 8,
   "id": "96246da6-c6f2-480e-9820-7332a2ab57b2",
   "metadata": {},
   "outputs": [
    {
     "name": "stdout",
     "output_type": "stream",
     "text": [
      "Loaded 200 samples.\n"
     ]
    }
   ],
   "source": [
    "import json\n",
    "\n",
    "results = []\n",
    "with open(\"../triviaqa/SnapKV.json\", \"r\") as f:\n",
    "    for line in f:\n",
    "        results.append(json.loads(line))  # 逐行读取并解析 JSON\n",
    "\n",
    "print(f\"Loaded {len(results)} samples.\")"
   ]
  },
  {
   "cell_type": "code",
   "execution_count": 38,
   "id": "16dfc54e-1191-4056-821e-baa6d5ed752e",
   "metadata": {},
   "outputs": [
    {
     "name": "stdout",
     "output_type": "stream",
     "text": [
      "Loaded 200 samples\n",
      "TriviaQA Average F1: 0.1913\n"
     ]
    }
   ],
   "source": [
    "import json\n",
    "\n",
    "def normalize(text):\n",
    "    text = text.lower()\n",
    "    text = ''.join([c if c.isalnum() else ' ' for c in text])\n",
    "    return text.split()\n",
    "\n",
    "def compute_f1(prediction, answers):\n",
    "    pred_tokens = normalize(prediction)\n",
    "    max_f1 = 0.0\n",
    "    \n",
    "    for answer in answers:\n",
    "        ans_tokens = normalize(answer)\n",
    "        common = len(set(pred_tokens) & set(ans_tokens))\n",
    "        \n",
    "        if len(pred_tokens) == 0 or len(ans_tokens) == 0:\n",
    "            # Handle empty prediction or answer\n",
    "            if pred_tokens == ans_tokens:\n",
    "                current_f1 = 1.0\n",
    "            else:\n",
    "                current_f1 = 0.0\n",
    "        else:\n",
    "            precision = common / len(pred_tokens)\n",
    "            recall = common / len(ans_tokens)\n",
    "            current_f1 = 2 * (precision * recall) / (precision + recall) if (precision + recall) > 0 else 0\n",
    "        \n",
    "        if current_f1 > max_f1:\n",
    "            max_f1 = current_f1\n",
    "    \n",
    "    return max_f1\n",
    "\n",
    "data = []\n",
    "with open(\"../triviaqa/PyramidKV.json\", \"r\") as f:\n",
    "    for line in f:\n",
    "        # 移除可能的尾随换行符和空白\n",
    "        cleaned_line = line.strip()\n",
    "        if cleaned_line:\n",
    "            data.append(json.loads(cleaned_line))\n",
    "\n",
    "print(f\"Loaded {len(data)} samples\")\n",
    "\n",
    "total_f1 = 0.0\n",
    "for item in data:\n",
    "    answers = item[\"answers\"]\n",
    "    prediction = item[\"pred\"]\n",
    "    total_f1 += compute_f1(prediction, answers)\n",
    "\n",
    "average_f1 = total_f1 / len(data)\n",
    "print(f\"TriviaQA Average F1: {average_f1:.4f}\")"
   ]
  },
  {
   "cell_type": "code",
   "execution_count": 37,
   "id": "844fa454-7496-45e1-a382-61e5eb93b656",
   "metadata": {},
   "outputs": [
    {
     "name": "stdout",
     "output_type": "stream",
     "text": [
      "Loaded 200 samples\n",
      "NarrativeQA Average F1: 0.2244\n"
     ]
    }
   ],
   "source": [
    "import json\n",
    "\n",
    "def normalize(text):\n",
    "    text = text.lower()\n",
    "    text = ''.join([c if c.isalnum() else ' ' for c in text])\n",
    "    return text.split()\n",
    "\n",
    "def compute_f1(prediction, answers):\n",
    "    pred_tokens = normalize(prediction)\n",
    "    max_f1 = 0.0\n",
    "    \n",
    "    for answer in answers:\n",
    "        ans_tokens = normalize(answer)\n",
    "        common = len(set(pred_tokens) & set(ans_tokens))\n",
    "        \n",
    "        if len(pred_tokens) == 0 or len(ans_tokens) == 0:\n",
    "            if pred_tokens == ans_tokens:\n",
    "                current_f1 = 1.0\n",
    "            else:\n",
    "                current_f1 = 0.0\n",
    "        else:\n",
    "            precision = common / len(pred_tokens)\n",
    "            recall = common / len(ans_tokens)\n",
    "            current_f1 = 2 * (precision * recall) / (precision + recall) if (precision + recall) > 0 else 0\n",
    "        \n",
    "        if current_f1 > max_f1:\n",
    "            max_f1 = current_f1\n",
    "    \n",
    "    return max_f1\n",
    "\n",
    "data = []\n",
    "with open(\"PyramidKV.json\", \"r\") as f:\n",
    "    for line in f:\n",
    "        # 移除可能的尾随换行符和空白\n",
    "        cleaned_line = line.strip()\n",
    "        if cleaned_line:\n",
    "            data.append(json.loads(cleaned_line))\n",
    "\n",
    "print(f\"Loaded {len(data)} samples\")\n",
    "\n",
    "total_f1 = 0.0\n",
    "for item in data:\n",
    "    answers = item[\"answers\"]\n",
    "    prediction = item[\"pred\"]\n",
    "    total_f1 += compute_f1(prediction, answers)\n",
    "\n",
    "average_f1 = total_f1 / len(data)\n",
    "print(f\"NarrativeQA Average F1: {average_f1:.4f}\")"
   ]
  },
  {
   "cell_type": "code",
   "execution_count": null,
   "id": "f518da96-e326-4188-8263-701a2357721a",
   "metadata": {},
   "outputs": [],
   "source": []
  }
 ],
 "metadata": {
  "kernelspec": {
   "display_name": "Python 3 (ipykernel)",
   "language": "python",
   "name": "python3"
  },
  "language_info": {
   "codemirror_mode": {
    "name": "ipython",
    "version": 3
   },
   "file_extension": ".py",
   "mimetype": "text/x-python",
   "name": "python",
   "nbconvert_exporter": "python",
   "pygments_lexer": "ipython3",
   "version": "3.10.12"
  }
 },
 "nbformat": 4,
 "nbformat_minor": 5
}
